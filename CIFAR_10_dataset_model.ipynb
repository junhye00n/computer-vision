{
  "nbformat": 4,
  "nbformat_minor": 0,
  "metadata": {
    "colab": {
      "provenance": [],
      "gpuType": "T4",
      "authorship_tag": "ABX9TyMnFUs9p3B6f1RonethxHgj",
      "include_colab_link": true
    },
    "kernelspec": {
      "name": "python3",
      "display_name": "Python 3"
    },
    "language_info": {
      "name": "python"
    },
    "accelerator": "GPU"
  },
  "cells": [
    {
      "cell_type": "markdown",
      "metadata": {
        "id": "view-in-github",
        "colab_type": "text"
      },
      "source": [
        "<a href=\"https://colab.research.google.com/github/junhye00n/computer-vision/blob/master/CIFAR_10_dataset_model.ipynb\" target=\"_parent\"><img src=\"https://colab.research.google.com/assets/colab-badge.svg\" alt=\"Open In Colab\"/></a>"
      ]
    },
    {
      "cell_type": "code",
      "source": [
        "# 빠른 가속을 위해 런타임을 GPU로 변경"
      ],
      "metadata": {
        "id": "JEyA7KQLxVSe"
      },
      "execution_count": 108,
      "outputs": []
    },
    {
      "cell_type": "code",
      "source": [
        "pip install torchmetrics"
      ],
      "metadata": {
        "id": "ptcaaLCQxX7c",
        "colab": {
          "base_uri": "https://localhost:8080/"
        },
        "outputId": "0fc0d3fb-170f-47d1-d2ae-cf13925af051"
      },
      "execution_count": 109,
      "outputs": [
        {
          "output_type": "stream",
          "name": "stdout",
          "text": [
            "Requirement already satisfied: torchmetrics in /usr/local/lib/python3.10/dist-packages (1.2.1)\n",
            "Requirement already satisfied: numpy>1.20.0 in /usr/local/lib/python3.10/dist-packages (from torchmetrics) (1.23.5)\n",
            "Requirement already satisfied: packaging>17.1 in /usr/local/lib/python3.10/dist-packages (from torchmetrics) (23.2)\n",
            "Requirement already satisfied: torch>=1.8.1 in /usr/local/lib/python3.10/dist-packages (from torchmetrics) (2.1.0+cu118)\n",
            "Requirement already satisfied: lightning-utilities>=0.8.0 in /usr/local/lib/python3.10/dist-packages (from torchmetrics) (0.10.0)\n",
            "Requirement already satisfied: setuptools in /usr/local/lib/python3.10/dist-packages (from lightning-utilities>=0.8.0->torchmetrics) (67.7.2)\n",
            "Requirement already satisfied: typing-extensions in /usr/local/lib/python3.10/dist-packages (from lightning-utilities>=0.8.0->torchmetrics) (4.5.0)\n",
            "Requirement already satisfied: filelock in /usr/local/lib/python3.10/dist-packages (from torch>=1.8.1->torchmetrics) (3.13.1)\n",
            "Requirement already satisfied: sympy in /usr/local/lib/python3.10/dist-packages (from torch>=1.8.1->torchmetrics) (1.12)\n",
            "Requirement already satisfied: networkx in /usr/local/lib/python3.10/dist-packages (from torch>=1.8.1->torchmetrics) (3.2.1)\n",
            "Requirement already satisfied: jinja2 in /usr/local/lib/python3.10/dist-packages (from torch>=1.8.1->torchmetrics) (3.1.2)\n",
            "Requirement already satisfied: fsspec in /usr/local/lib/python3.10/dist-packages (from torch>=1.8.1->torchmetrics) (2023.6.0)\n",
            "Requirement already satisfied: triton==2.1.0 in /usr/local/lib/python3.10/dist-packages (from torch>=1.8.1->torchmetrics) (2.1.0)\n",
            "Requirement already satisfied: MarkupSafe>=2.0 in /usr/local/lib/python3.10/dist-packages (from jinja2->torch>=1.8.1->torchmetrics) (2.1.3)\n",
            "Requirement already satisfied: mpmath>=0.19 in /usr/local/lib/python3.10/dist-packages (from sympy->torch>=1.8.1->torchmetrics) (1.3.0)\n"
          ]
        }
      ]
    },
    {
      "cell_type": "code",
      "source": [
        "import torch    # 파이토치 라이브러리를 가져옴\n",
        "import torch.nn as nn\n",
        "import torch.optim as optim\n",
        "from torch.utils.data import DataLoader\n",
        "from torchvision.datasets import CIFAR10\n",
        "from torchvision.transforms import ToTensor\n",
        "from torchmetrics.classification import Accuracy\n",
        "from collections import defaultdict    # Add this import for defaultdict\n",
        "import matplotlib.pyplot as plt\n",
        "\n"
      ],
      "metadata": {
        "id": "e3Sod7q_NuIR"
      },
      "execution_count": 110,
      "outputs": []
    },
    {
      "cell_type": "code",
      "source": [
        "class SequentialModel(nn.Module):\n",
        "    def __init__(self):\n",
        "        super().__init__()    # 층 뒤에 ReLU 활성함수를 배치\n",
        "        self.reshape = nn.Flatten()    # 다차원 입력을 1차원으로 펼침\n",
        "        self.model = nn.Sequential(\n",
        "            nn.Linear(3072, 1024),    # 3072개의 입력을 받아 1024개의 출력을 생성\n",
        "            nn.ReLU(), #RELU 사용\n",
        "            nn.Linear(1024, 512),    # 1024개의 출력을 받아 512개의 출력을 생성\n",
        "            nn.ReLU(),\n",
        "            nn.Linear(512, 512),    # 512개의 입력을 받아 512개의 출력 생성\n",
        "            nn.ReLU(),\n",
        "            nn.Linear(512, 10),    # 512개의 입력을 받아 10개의 출력 생성\n",
        "        )\n",
        "\n",
        "    def forward(self, x):\n",
        "        x = self.reshape(x)    # 입력을 1차원으로 펼침\n",
        "        x = self.model(x)    # 펼쳐진 x를 순차적으로 정의된 레이어에 통과\n",
        "        return x    # x 값 반환\n",
        "\n",
        "\n",
        "\n",
        "# 모델 학습\n",
        "def training_epoch(dataloader, device, model, loss_fn, optimizer, metric):\n",
        "    size = len(dataloader.dataset) # 데이터셋의 크기를 저장\n",
        "    num_batches = len(dataloader) # 배치의 총 개수 저장\n",
        "    total_loss = 0    # 손실함수를  초기화\n",
        "    acc_list = []    # 리스트 초기화\n",
        "    model.train()        # 모델 학습\n",
        "    for batch, (x, y) in enumerate(dataloader): # 데이터로더로부터 배치를 가져옴\n",
        "        x = x.to(device)    # x 전송\n",
        "        y = y.to(device)    # y 전송\n",
        "\n",
        "        y_hat = model(x)    # 모델에 입력을 전달\n",
        "        loss = loss_fn(y_hat, y)    # 예측과 실제 레이블 간의 손실 계산\n",
        "        total_loss += loss.item()    # 현재 배치의 손실을 누적\n",
        "        acc = metric(y_hat, y)    # 정확도 계산\n",
        "        acc_list.append(acc)    # 정확도를 리스트에 추가\n",
        "\n",
        "        optimizer.zero_grad()    # 이전 배치의 그래디언트 초기화\n",
        "        loss.backward()    # 현재 배치의 손실에 대한 그래디언트 계산\n",
        "        optimizer.step()    # 옵티마이저를 사용해 파라이터 업데이트\n",
        "\n",
        "        # 매 배치마다 현재 손실과 정확도 출력\n",
        "        if batch % 100 == 0:\n",
        "            loss = loss.item()\n",
        "            current = batch * len(x)\n",
        "            print(f\"loss: {loss:>7f}, acc: {acc:>7f} [{current:>5d}/{size:>5d}]\")\n",
        "\n",
        "    total_loss /= num_batches    # 평균 손실 계산\n",
        "    mean_acc = torch.tensor(acc_list).to(device).mean().item()    # 현재 에포크에서의 평균 정확도 계산\n",
        "    return total_loss, mean_acc    # 정확도와 손실 리스트 반환\n",
        "\n",
        "# 검증 데이터 손실 계산\n",
        "def validation(dataloader, device, model, loss_fn, metric):\n",
        "    num_batches = len(dataloader)\n",
        "    total_loss = 0    # 현 에포크에서 사용되는 배치의 총 개수 저장실 초기화\n",
        "    acc_list = []    # 정확도 초기화\n",
        "    model.eval()    # 평가 모드로 설정\n",
        "    with torch.no_grad():    # 평가에서는 그래디언트 계산 필요 없음\n",
        "        for x, y in dataloader:\n",
        "            x = x.to(device)    # x 전송\n",
        "            y = y.to(device)    # y 전송\n",
        "\n",
        "            y_hat = model(x) # 입력 후 예측\n",
        "            loss = loss_fn(y_hat, y)    # 손실 계산\n",
        "            total_loss += loss.item()    # 손실 누적\n",
        "            acc = metric(y_hat, y)    # 정확도 계산\n",
        "            acc_list.append(acc)    # 정확도 추가\n",
        "\n",
        "    total_loss /= num_batches    # 평균 손실 계산\n",
        "    mean_acc = torch.tensor(acc_list).to(device).mean().item() # 평균 정확도 계산\n",
        "    return total_loss, mean_acc    # 평균 손실,정확도 반환\n",
        "\n",
        "\n",
        "# 테스트 코드\n",
        "def test(dataloader, device, model, loss_fn, metric):\n",
        "    _, mean_acc = validation(dataloader, device, model, loss_fn, metric)    # 정확도 계산\n",
        "    return mean_acc    # 반환\n",
        "\n",
        "\n",
        "# 데이터 준비\n",
        "train_data = CIFAR10(    # CIFAR10 데이터셋 불러오기\n",
        "    root=\"data\",    # 데이터 저장경로\n",
        "    train=True,    # 훈련 진행\n",
        "    download=True,    # 데이터가 없다면 다운로드 진행\n",
        "    transform=ToTensor(),    # 이미지를 파이토치 텐서로 변환시킴\n",
        ")\n",
        "test_data = CIFAR10(    # CIFAR10 데이터셋 불러오기\n",
        "    root=\"data\",    # 데이터 저장경로\n",
        "    train=False,    # 훈련 안함 테스트 과정이기 때문에\n",
        "    download=True,    # 데이터가 없다면 다운로드 진행\n",
        "    transform=ToTensor(),    # 이미지를 파이토치 텐서로 변환시킴\n",
        ")\n",
        "train_loader = DataLoader(train_data, batch_size=128)    #  학습 데이터와 배치 단위를 나눠서 데이토 로드\n",
        "test_loader = DataLoader(test_data, batch_size=128)    # 테스트 데이터를 배치크기를 정해서 데이터 로드\n",
        "\n",
        "\n",
        "# 모델 학습\n",
        "device = \"cuda\" if torch.cuda.is_available() else \"cpu\" # gpu사용\n",
        "dmlp = SequentialModel().to(device)  # SequentialModel 클래스로부터 모델을 생성하고, 이를 앞서 정의한 device로 이동\n",
        "loss_fn = nn.CrossEntropyLoss()  # CrossEntropyLoss 사용\n",
        "optimizer = optim.Adam(dmlp.parameters(), lr=0.0001)  # Adam 옵티마이저 정의, 학습률 0.0001\n",
        "metric = Accuracy(task=\"multiclass\", num_classes=10).to(device)\n",
        "\n",
        "max_epochs = 5   # 최대 에폭\n",
        "history = defaultdict(list)\n",
        "for t in range(max_epochs):\n",
        "    print(f\"Epoch {t+1}\\n\\n**************************************\")\n",
        "\n",
        "    # 훈련 데이터에 대한 에포크 진행\n",
        "    train_loss, train_acc = training_epoch(train_loader, device, dmlp, loss_fn, optimizer, metric)\n",
        "    # 검증 데이터에 대한 에포크 진행\n",
        "    val_loss, val_acc = validation(test_loader, device, dmlp, loss_fn, metric)\n",
        "    print(\"val accuracy=\", val_acc * 100, \"\\n\")    # 퍼센트화\n",
        "\n",
        "    # 훈련 및 검증 손실, 정확도 기록\n",
        "    history[\"loss\"].append(train_loss)\n",
        "    history[\"accuracy\"].append(train_acc)\n",
        "    history[\"val_loss\"].append(val_loss)\n",
        "    history[\"val_accuracy\"].append(val_acc)\n",
        "\n",
        "\n",
        "# 훈련된 모델의 상태 저\n",
        "torch.save(dmlp.state_dict(), \"dmlp_trained.pth\")\n",
        "\n",
        "# 새로운 모델 생성 후 저장된 상태 적용\n",
        "dmlp = SequentialModel().to(device)\n",
        "dmlp.load_state_dict(torch.load(\"dmlp_trained.pth\"))\n",
        "\n",
        "print(\"정확률=\", test(test_loader, device, dmlp, loss_fn, metric) * 100)\n",
        "\n",
        "plt.plot(history[\"accuracy\"])\n",
        "plt.plot(history[\"val_accuracy\"])\n",
        "plt.title(\"Accuracy graph\")    # 타이틀을 정확도 그래프로\n",
        "plt.xlabel(\"epochs\")    # 에폭으로 x축 라벨링\n",
        "plt.ylabel(\"accuracy\")    # y축에 정확도 라벨링\n",
        "plt.legend([\"train\", \"test\"])    # 범례 추가\n",
        "plt.grid()\n",
        "plt.show()    # 함수 보여주기"
      ],
      "metadata": {
        "colab": {
          "base_uri": "https://localhost:8080/",
          "height": 1000
        },
        "id": "ztLBxF78NuLY",
        "outputId": "9efd6b4c-0fbd-4b53-b338-374e69b0d82b"
      },
      "execution_count": 111,
      "outputs": [
        {
          "output_type": "stream",
          "name": "stdout",
          "text": [
            "Files already downloaded and verified\n",
            "Files already downloaded and verified\n",
            "Epoch 1\n",
            "\n",
            "**************************************\n",
            "loss: 2.300907, acc: 0.109375 [    0/50000]\n",
            "loss: 1.881120, acc: 0.289062 [12800/50000]\n",
            "loss: 1.892819, acc: 0.335938 [25600/50000]\n",
            "loss: 1.834110, acc: 0.304688 [38400/50000]\n",
            "val accuracy= 36.38251721858978 \n",
            "\n",
            "Epoch 2\n",
            "\n",
            "**************************************\n",
            "loss: 1.748060, acc: 0.312500 [    0/50000]\n",
            "loss: 1.648408, acc: 0.367188 [12800/50000]\n",
            "loss: 1.810462, acc: 0.406250 [25600/50000]\n",
            "loss: 1.719815, acc: 0.398438 [38400/50000]\n",
            "val accuracy= 40.98101258277893 \n",
            "\n",
            "Epoch 3\n",
            "\n",
            "**************************************\n",
            "loss: 1.621206, acc: 0.398438 [    0/50000]\n",
            "loss: 1.564704, acc: 0.421875 [12800/50000]\n",
            "loss: 1.736313, acc: 0.406250 [25600/50000]\n",
            "loss: 1.631439, acc: 0.414062 [38400/50000]\n",
            "val accuracy= 44.23457384109497 \n",
            "\n",
            "Epoch 4\n",
            "\n",
            "**************************************\n",
            "loss: 1.541137, acc: 0.437500 [    0/50000]\n",
            "loss: 1.498464, acc: 0.460938 [12800/50000]\n",
            "loss: 1.649320, acc: 0.414062 [25600/50000]\n",
            "loss: 1.562185, acc: 0.437500 [38400/50000]\n",
            "val accuracy= 45.35205662250519 \n",
            "\n",
            "Epoch 5\n",
            "\n",
            "**************************************\n",
            "loss: 1.502423, acc: 0.468750 [    0/50000]\n",
            "loss: 1.460360, acc: 0.484375 [12800/50000]\n",
            "loss: 1.576659, acc: 0.429688 [25600/50000]\n",
            "loss: 1.510552, acc: 0.453125 [38400/50000]\n",
            "val accuracy= 46.24209105968475 \n",
            "\n",
            "정확률= 46.24209105968475\n"
          ]
        },
        {
          "output_type": "display_data",
          "data": {
            "text/plain": [
              "<Figure size 640x480 with 1 Axes>"
            ],
            "image/png": "[encoded data removed]"
          },
          "metadata": {}
        }
      ]
    },
    {
      "cell_type": "code",
      "source": [],
      "metadata": {
        "id": "y9CYxLfRNuZV"
      },
      "execution_count": 111,
      "outputs": []
    },
    {
      "cell_type": "code",
      "source": [],
      "metadata": {
        "id": "gOrJ4EcmNubi"
      },
      "execution_count": 111,
      "outputs": []
    },
    {
      "cell_type": "code",
      "source": [],
      "metadata": {
        "id": "MtFycrVyNuef"
      },
      "execution_count": 111,
      "outputs": []
    },
    {
      "cell_type": "code",
      "source": [],
      "metadata": {
        "id": "aQsEU-mPNulX"
      },
      "execution_count": 111,
      "outputs": []
    },
    {
      "cell_type": "code",
      "source": [],
      "metadata": {
        "id": "bO44fsgkNun0"
      },
      "execution_count": 111,
      "outputs": []
    }
  ]
}