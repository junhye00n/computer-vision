{
 "cells": [
  {
   "cell_type": "code",
   "execution_count": 3,
   "metadata": {},
   "outputs": [],
   "source": [
    "# RGB 컬러 영상을 채널별로 구분해 시각화하기\n",
    "import cv2 as cv\n",
    "import sys"
   ]
  },
  {
   "cell_type": "code",
   "execution_count": 4,
   "metadata": {},
   "outputs": [],
   "source": [
    "img = cv.imread(\"soccer.jpg\")\n",
    "\n",
    "if img is None:\n",
    "    sys.exit(\"파일을 찾을 수 없습니다.\")\n",
    "\n",
    "cv.imshow(\"original_RGB\", img)\n",
    "cv.imshow(\"Upper left half\", img[0:img.shape[0]//2, 0:img.shape[1]//2, :])\n",
    "cv.imshow(\"Center half\", img[img.shape[0]//4:3*img.shape[0]//4, img.shape[1]//4:3*img.shape[1]//4, :])\n",
    "\n",
    "cv.imshow(\"R channel\", img[:, :, 2])\n",
    "cv.imshow(\"G channel\", img[:, :, 1])\n",
    "cv.imshow(\"B channel\", img[:, :, 0])\n",
    "\n",
    "cv.waitKey()\n",
    "cv.destroyAllWindows()"
   ]
  },
  {
   "cell_type": "code",
   "execution_count": null,
   "metadata": {},
   "outputs": [],
   "source": []
  }
 ],
 "metadata": {
  "kernelspec": {
   "display_name": "cjh",
   "language": "python",
   "name": "python3"
  },
  "language_info": {
   "codemirror_mode": {
    "name": "ipython",
    "version": 3
   },
   "file_extension": ".py",
   "mimetype": "text/x-python",
   "name": "python",
   "nbconvert_exporter": "python",
   "pygments_lexer": "ipython3",
   "version": "3.10.13"
  },
  "orig_nbformat": 4
 },
 "nbformat": 4,
 "nbformat_minor": 2
}
