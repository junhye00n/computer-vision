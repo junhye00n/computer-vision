{
 "cells": [
  {
   "cell_type": "code",
   "execution_count": 1,
   "metadata": {},
   "outputs": [],
   "source": [
    "# 정규화 절단 알고리즘으로 영역 분할하기\n",
    "# pip install scikit-image\n",
    "import skimage\n",
    "import numpy as np\n",
    "import cv2\n",
    "import time"
   ]
  },
  {
   "cell_type": "code",
   "execution_count": 2,
   "metadata": {},
   "outputs": [
    {
     "ename": "AttributeError",
     "evalue": "module 'skimage' has no attribute 'data'",
     "output_type": "error",
     "traceback": [
      "\u001b[1;31m---------------------------------------------------------------------------\u001b[0m",
      "\u001b[1;31mAttributeError\u001b[0m                            Traceback (most recent call last)",
      "\u001b[1;32mc:\\Users\\82106\\Documents\\junhyun\\ch4_6.ipynb Cell 2\u001b[0m line \u001b[0;36m1\n\u001b[1;32m----> <a href='vscode-notebook-cell:/c%3A/Users/82106/Documents/junhyun/ch4_6.ipynb#W1sZmlsZQ%3D%3D?line=0'>1</a>\u001b[0m coffee \u001b[39m=\u001b[39m skimage\u001b[39m.\u001b[39;49mdata\u001b[39m.\u001b[39mcoffee()\n\u001b[0;32m      <a href='vscode-notebook-cell:/c%3A/Users/82106/Documents/junhyun/ch4_6.ipynb#W1sZmlsZQ%3D%3D?line=2'>3</a>\u001b[0m start \u001b[39m=\u001b[39m time\u001b[39m.\u001b[39mtime()\n\u001b[0;32m      <a href='vscode-notebook-cell:/c%3A/Users/82106/Documents/junhyun/ch4_6.ipynb#W1sZmlsZQ%3D%3D?line=3'>4</a>\u001b[0m slic \u001b[39m=\u001b[39m skimage\u001b[39m.\u001b[39msegmentation\u001b[39m.\u001b[39mslic(coffee, compactness\u001b[39m=\u001b[39m\u001b[39m20\u001b[39m, n_segments\u001b[39m=\u001b[39m\u001b[39m600\u001b[39m, start_label\u001b[39m=\u001b[39m\u001b[39m1\u001b[39m)\n",
      "\u001b[1;31mAttributeError\u001b[0m: module 'skimage' has no attribute 'data'"
     ]
    }
   ],
   "source": [
    "coffee = skimage.data.coffee()\n",
    "\n",
    "start = time.time()\n",
    "slic = skimage.segmentation.slic(coffee, compactness=20, n_segments=600, start_label=1)\n",
    "g = skimage.future.graph.rag_mean_color(coffee, slic, mode=\"similarity\")\n",
    "ncut = skimage.future.graph.cut_normalized(slic, g)\n",
    "print(coffee.shape, \" Coffee 영상을 분할하는 데 \", time.time() - start, \"초 소요\")\n",
    "\n",
    "marking = skimage.segmentation.mark_boundaries(coffee, ncut)\n",
    "ncut_coffee = np.uint8(marking * 255.0)"
   ]
  },
  {
   "cell_type": "code",
   "execution_count": null,
   "metadata": {},
   "outputs": [],
   "source": [
    "cv2.imshow(\"Normalized cut\", cv2.cvtColor(ncut_coffee, cv2.COLOR_RGB2BGR))\n",
    "\n",
    "cv2.waitKey()\n",
    "cv2.destroyAllWindows()"
   ]
  }
 ],
 "metadata": {
  "kernelspec": {
   "display_name": "cjh",
   "language": "python",
   "name": "python3"
  },
  "language_info": {
   "codemirror_mode": {
    "name": "ipython",
    "version": 3
   },
   "file_extension": ".py",
   "mimetype": "text/x-python",
   "name": "python",
   "nbconvert_exporter": "python",
   "pygments_lexer": "ipython3",
   "version": "3.10.13"
  }
 },
 "nbformat": 4,
 "nbformat_minor": 2
}
