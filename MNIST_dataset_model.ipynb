{
  "nbformat": 4,
  "nbformat_minor": 0,
  "metadata": {
    "colab": {
      "provenance": [],
      "gpuType": "T4",
      "authorship_tag": "ABX9TyP4zqP+pDVXePZoqPF0pmje",
      "include_colab_link": true
    },
    "kernelspec": {
      "name": "python3",
      "display_name": "Python 3"
    },
    "language_info": {
      "name": "python"
    },
    "accelerator": "GPU"
  },
  "cells": [
    {
      "cell_type": "markdown",
      "metadata": {
        "id": "view-in-github",
        "colab_type": "text"
      },
      "source": [
        "<a href=\"https://colab.research.google.com/github/junhye00n/computer-vision/blob/master/MNIST_dataset_model.ipynb\" target=\"_parent\"><img src=\"https://colab.research.google.com/assets/colab-badge.svg\" alt=\"Open In Colab\"/></a>"
      ]
    },
    {
      "cell_type": "code",
      "execution_count": 9,
      "metadata": {
        "id": "ur_Ax_V4Xfei"
      },
      "outputs": [],
      "source": [
        "# 빠른 가속을 위해 런타임을 GPU로 변경"
      ]
    },
    {
      "cell_type": "code",
      "source": [
        "!pip3 install torch    # torch 설치\n",
        "!pip3 install torchvision    # torchvision 설차"
      ],
      "metadata": {
        "colab": {
          "base_uri": "https://localhost:8080/"
        },
        "id": "WiUCfcaZX271",
        "outputId": "175f0bc1-de1a-41de-effa-7f8c986babd7"
      },
      "execution_count": 10,
      "outputs": [
        {
          "output_type": "stream",
          "name": "stdout",
          "text": [
            "Requirement already satisfied: torch in /usr/local/lib/python3.10/dist-packages (2.1.0+cu118)\n",
            "Requirement already satisfied: filelock in /usr/local/lib/python3.10/dist-packages (from torch) (3.13.1)\n",
            "Requirement already satisfied: typing-extensions in /usr/local/lib/python3.10/dist-packages (from torch) (4.5.0)\n",
            "Requirement already satisfied: sympy in /usr/local/lib/python3.10/dist-packages (from torch) (1.12)\n",
            "Requirement already satisfied: networkx in /usr/local/lib/python3.10/dist-packages (from torch) (3.2.1)\n",
            "Requirement already satisfied: jinja2 in /usr/local/lib/python3.10/dist-packages (from torch) (3.1.2)\n",
            "Requirement already satisfied: fsspec in /usr/local/lib/python3.10/dist-packages (from torch) (2023.6.0)\n",
            "Requirement already satisfied: triton==2.1.0 in /usr/local/lib/python3.10/dist-packages (from torch) (2.1.0)\n",
            "Requirement already satisfied: MarkupSafe>=2.0 in /usr/local/lib/python3.10/dist-packages (from jinja2->torch) (2.1.3)\n",
            "Requirement already satisfied: mpmath>=0.19 in /usr/local/lib/python3.10/dist-packages (from sympy->torch) (1.3.0)\n",
            "Requirement already satisfied: torchvision in /usr/local/lib/python3.10/dist-packages (0.16.0+cu118)\n",
            "Requirement already satisfied: numpy in /usr/local/lib/python3.10/dist-packages (from torchvision) (1.23.5)\n",
            "Requirement already satisfied: requests in /usr/local/lib/python3.10/dist-packages (from torchvision) (2.31.0)\n",
            "Requirement already satisfied: torch==2.1.0 in /usr/local/lib/python3.10/dist-packages (from torchvision) (2.1.0+cu118)\n",
            "Requirement already satisfied: pillow!=8.3.*,>=5.3.0 in /usr/local/lib/python3.10/dist-packages (from torchvision) (9.4.0)\n",
            "Requirement already satisfied: filelock in /usr/local/lib/python3.10/dist-packages (from torch==2.1.0->torchvision) (3.13.1)\n",
            "Requirement already satisfied: typing-extensions in /usr/local/lib/python3.10/dist-packages (from torch==2.1.0->torchvision) (4.5.0)\n",
            "Requirement already satisfied: sympy in /usr/local/lib/python3.10/dist-packages (from torch==2.1.0->torchvision) (1.12)\n",
            "Requirement already satisfied: networkx in /usr/local/lib/python3.10/dist-packages (from torch==2.1.0->torchvision) (3.2.1)\n",
            "Requirement already satisfied: jinja2 in /usr/local/lib/python3.10/dist-packages (from torch==2.1.0->torchvision) (3.1.2)\n",
            "Requirement already satisfied: fsspec in /usr/local/lib/python3.10/dist-packages (from torch==2.1.0->torchvision) (2023.6.0)\n",
            "Requirement already satisfied: triton==2.1.0 in /usr/local/lib/python3.10/dist-packages (from torch==2.1.0->torchvision) (2.1.0)\n",
            "Requirement already satisfied: charset-normalizer<4,>=2 in /usr/local/lib/python3.10/dist-packages (from requests->torchvision) (3.3.2)\n",
            "Requirement already satisfied: idna<4,>=2.5 in /usr/local/lib/python3.10/dist-packages (from requests->torchvision) (3.6)\n",
            "Requirement already satisfied: urllib3<3,>=1.21.1 in /usr/local/lib/python3.10/dist-packages (from requests->torchvision) (2.0.7)\n",
            "Requirement already satisfied: certifi>=2017.4.17 in /usr/local/lib/python3.10/dist-packages (from requests->torchvision) (2023.11.17)\n",
            "Requirement already satisfied: MarkupSafe>=2.0 in /usr/local/lib/python3.10/dist-packages (from jinja2->torch==2.1.0->torchvision) (2.1.3)\n",
            "Requirement already satisfied: mpmath>=0.19 in /usr/local/lib/python3.10/dist-packages (from sympy->torch==2.1.0->torchvision) (1.3.0)\n"
          ]
        }
      ]
    },
    {
      "cell_type": "code",
      "source": [
        "from typing import Dict, List    # Dict 및 유형을 가져옴\n",
        "import torch    # 파이토치 라이브러리를 가져옴\n",
        "import matplotlib.pyplot as plt    # 시각화 작업에 필요한 pyplot 모듈을 라이브러리에서 가져옴\n",
        "from torch import Tensor, nn, optim    # 파이토치 라이브러리에서 특정 클래스를 가져옴\n",
        "from torch.utils.data import Dataset, DataLoader    # dataset 클래스를 가져옴\n",
        "from torchvision import datasets    # datasets 모듈을 가져온다(이미지 분류 작업에 사용되는 데이터셋들)\n",
        "from torchvision.transforms import ToTensor    # 이미지 또는 넘파이 배열을 파이토치 텐서로 변환하기 위해 클래스 가져옴\n",
        "\n",
        "_Optimizer = torch.optim.Optimizer    # 클래스의 명칭을 만듦"
      ],
      "metadata": {
        "id": "xvzTwW3dX2-W"
      },
      "execution_count": 11,
      "outputs": []
    },
    {
      "cell_type": "code",
      "source": [
        "# 학습에 사용할 모델 정의\n",
        "class MNISTNetwork(nn.Module):    # MNISTNetwork 클래스 정의\n",
        "    def __init__(self) -> None:\n",
        "        super(MNISTNetwork, self).__init__()\n",
        "        self.flatten = nn.Flatten()\n",
        "        self.linear_relu_stack = nn.Sequential(    # 세 개의 층으로 정의, 각 층 뒤에는 할성화함수로 ReLU를 사용\n",
        "            nn.Linear(28 * 28, 512),    # MNIST 이미지 픽셀 수 28x28, 출력은 784 중에 512\n",
        "            nn.ReLU(),    # 첫 번째 층의 ReLU 활성화 함수\n",
        "            nn.Linear(512, 512),    # 두 번째 선형 층(입력의 512를 다시 512 차원으로 변환)\n",
        "            nn.ReLU(),    # 두 번째 층의 ReLU 함수 정의\n",
        "            nn.Linear(512, 10),    # 세 번째 선형 층(입력의 512를 MNIST 0~9의 클래스 10개로 10개의 출력)\n",
        "        )\n",
        "\n",
        "    def forward(self, x: Tensor) -> Tensor:    # 파이토치의 모델 클래스의 forward 메서드를 정의하는 정의식\n",
        "        x = self.flatten(x)    # 입력 데이터 x를 self.flatten에 전달하여 평탄화\n",
        "        logits = self.linear_relu_stack(x)    # 평탄화 된 x를 self.linear_relu_stack에 전달\n",
        "        return logits    # 최종 로짓 반환"
      ],
      "metadata": {
        "id": "m0CUvSKxX3Ay"
      },
      "execution_count": 12,
      "outputs": []
    },
    {
      "cell_type": "code",
      "source": [
        "# 학습 코드\n",
        "def train(\n",
        "    dataloader: DataLoader,\n",
        "    device: str,\n",
        "    model: nn.Module,\n",
        "    loss_fn: nn.Module,\n",
        "    optimizer: _Optimizer,\n",
        ") -> None:\n",
        "    size = len(dataloader.dataset)\n",
        "    model.train()    # 모델 학습\n",
        "\n",
        "    train_loss = 0\n",
        "\n",
        "    for batch, (X, y) in enumerate(dataloader):    # 미니배치를 가져와서 학습\n",
        "        X, y = X.to(device), y.to(device)    # 지정 device로 가져옴\n",
        "\n",
        "        pred = model(X)    # 모델에 입력 데이터 전달 예측\n",
        "        loss = loss_fn(pred, y)    # 손실함수 사용하여 예측과 실제 손실 차이 계산\n",
        "\n",
        "        optimizer.zero_grad()    # 그래디언트 초기화\n",
        "        loss.backward()    # 역전파 수행\n",
        "        optimizer.step()    # 가중치 업데이트\n",
        "\n",
        "        if batch % 100 == 0:    # 100번 째 미니배치일 때 수행할 것\n",
        "            loss, current = loss.item(), batch * len(X)\n",
        "            print(f\"loss: {loss:>5f}  [{current:>5d}/{size:>5d}]\")    #현재 손실 함수를 출력하여 확인\n",
        "\n",
        "        train_loss += loss    # 미니배치 손실을 전체 학습에 누적\n",
        "\n",
        "    return train_loss / size    # 전체 학습 손실을 전체 크기로 나눠서 평균 손실 계산\n"
      ],
      "metadata": {
        "id": "X7G7iFt5X3DK"
      },
      "execution_count": 13,
      "outputs": []
    },
    {
      "cell_type": "code",
      "source": [
        "# 테스트 코드\n",
        "def test(\n",
        "    dataloader: DataLoader, device: str, model: nn.Module, loss_fn: nn.Module\n",
        ") -> None:\n",
        "    size = len(dataloader.dataset)    # 테스트 데이터셋 크기 설정\n",
        "    num_batches = len(dataloader)    # 미니배치 수 설정\n",
        "    model.eval()    # 모델을 test 용도로 설정\n",
        "    test_loss = 0    # 손실 값 초기화\n",
        "    correct = 0    # 정확도 초기화\n",
        "    with torch.no_grad():    # 그래디언트 계산 비활성화 시킴(테스트 과정이기에 안해도 됨)\n",
        "        for X, y in dataloader:    # 각 미니배치에 대한 반복문 실행\n",
        "            X, y = X.to(device), y.to(device)    # 각 데이터와 레이블을 디정된 device로 이동\n",
        "            pred = model(X)    # 모델에 입력 데이터 전달해서 예측\n",
        "            test_loss += loss_fn(pred, y).item()    # 손실함수로 예측과 실제 계산 값 손실 계산\n",
        "            correct += (pred.argmax(1) == y).type(torch.float).sum().item()    # 정확한 예측의 수 누적\n",
        "    test_loss /= num_batches    # 전체 테스트 손실하고 정확도를 계산\n",
        "    correct /= size    # 정확도를 테스트 사이즈로 나눠서 출력문 작성\n",
        "    print(\n",
        "        f\"Test Error: \\n Accuracy: {(100*correct):>0.1f}%, Avg loss: {test_loss:>3f} \\n\"    # 퍼센트 화,소숫점 반올림 자리 설정\n",
        "    )"
      ],
      "metadata": {
        "id": "4eS4h49YX3FT"
      },
      "execution_count": 14,
      "outputs": []
    },
    {
      "cell_type": "code",
      "source": [
        "# 추론 코드\n",
        "def predict(test_data: Dataset, model: nn.Module) -> None:\n",
        "    model.eval()    # 모델을 평가 모드로\n",
        "    x = test_data[0][0]    # 데이터 셋에서 0,0 첫 번째 포인트 가져오기\n",
        "    y = test_data[0][1]\n",
        "    with torch.no_grad():    # 추론 과정에서의 그래디언트 과정 제외\n",
        "        pred = model(x)    # 모델에 데이터 전달하여 추론\n",
        "        predicted, actual = pred[0].argmax(0), y    # 모델 출력에서 예측값과 실제값 가져오기\n",
        "        print(f\"Predicted: {predicted}, Actual: {actual}\")    # 예측값과 실제값 출력"
      ],
      "metadata": {
        "id": "jiDQ74QzX3Hp"
      },
      "execution_count": 15,
      "outputs": []
    },
    {
      "cell_type": "code",
      "source": [
        "# 학습과 테스트 실행하는 코드\n",
        "def run_pytorch(batch_size: int, epochs: int) -> None:    # 배치 사이즈와 epoch는 정수로\n",
        "    # 데이터 불러오기\n",
        "    training_data = datasets.MNIST(    # MNIST 데이터셋 불러오기\n",
        "        root=\"data\",    # 데이터 저장경로\n",
        "        train=True,    # 훈련 진행\n",
        "        download=True,    # 데이터가 없다면 다운로드 진행\n",
        "        transform=ToTensor(),    # 이미지를 파이토치 텐서로 변환시킴\n",
        "    )\n",
        "\n",
        "    test_data = datasets.MNIST(    # MNIST 데이터셋 불러오기\n",
        "        root=\"data\",    # 데이터 저장경로\n",
        "        train=False,    # 훈련 안함 테스트 과정이기 때문에\n",
        "        download=True,    # 데이터가 없다면 다운로드 진행\n",
        "        transform=ToTensor(),    # 이미지를 파이토치 텐서로 변환시킴\n",
        "    )\n",
        "\n",
        "    train_dataloader = DataLoader(training_data, batch_size=batch_size)    #  학습 데이터와 배치 단위를 나눠서 데이토 로드\n",
        "    test_dataloader = DataLoader(test_data, batch_size=batch_size)    # 테스트 데이터를 배치크기를 정해서 데이터 로드\n",
        "\n",
        "    device = \"cuda\" if torch.cuda.is_available() else \"cpu\"    # 쿠다있으면 사용하고 없으면 cpu 현재는 코랩에서 GPU 사용\n",
        "\n",
        "    model = MNISTNetwork().to(device)\n",
        "\n",
        "    loss_fn = nn.CrossEntropyLoss()    # 다중 클래스 분류에서 사용되는 손실함수 정의\n",
        "    optimizer = optim.SGD(model.parameters(), lr=0.01, momentum=0.9)    # 학습률을 0.01, 모멘텀은 0.9\n",
        "\n",
        "    epoch_loss = []    # 에복 리스트 초기화\n",
        "    # 학습과 테스트 에폭\n",
        "    for t in range(epochs):\n",
        "        print(f\"Epoch {t+1}\\n\\n********************************\")\n",
        "        train_loss = train(train_dataloader, device, model, loss_fn, optimizer)    # 훈련 함수를 호출하여 모델 학습\n",
        "        epoch_loss.append(train_loss.detach().cpu().numpy())    # 훈련 손실을 아까 초기화한 리스트에 추가<<배열 형태로\n",
        "        test(test_dataloader, device, model, loss_fn)    # 테스트 함수로 모델 평가\n",
        "\n",
        "    model = MNISTNetwork()    # 인스턴스 생성\n",
        "    predict(test_data, model)    # 테스트 데이터에 대한 결과치 예측\n",
        "\n",
        "    plt.plot(range(1, epochs + 1), epoch_loss, label=\"Training Loss\")\n",
        "    plt.xlabel(\"Epoch\")    # 에폭으로 x축 라벨링\n",
        "    plt.ylabel(\"Loss\")    # 손실로 y축 라벨링\n",
        "    plt.legend()    # 범례 추가\n",
        "    plt.show()    # 함수 보여주기\n",
        "\n",
        "\n",
        "if __name__ == \"__main__\":\n",
        "    run_pytorch(batch_size=128, epochs=10)    # 배치 사이즈와 에폭을 지정해서 출력\n"
      ],
      "metadata": {
        "colab": {
          "base_uri": "https://localhost:8080/",
          "height": 1000
        },
        "id": "sQutD7LyX3KR",
        "outputId": "9b6ab03f-5842-4d67-f9ad-d9a20faa29f7"
      },
      "execution_count": 19,
      "outputs": [
        {
          "output_type": "stream",
          "name": "stdout",
          "text": [
            "Epoch 1\n",
            "\n",
            "********************************\n",
            "loss: 2.300557  [    0/60000]\n",
            "loss: 0.752071  [12800/60000]\n",
            "loss: 0.343454  [25600/60000]\n",
            "loss: 0.324884  [38400/60000]\n",
            "loss: 0.415535  [51200/60000]\n",
            "Test Error: \n",
            " Accuracy: 90.9%, Avg loss: 0.310524 \n",
            "\n",
            "Epoch 2\n",
            "\n",
            "********************************\n",
            "loss: 0.243741  [    0/60000]\n",
            "loss: 0.203984  [12800/60000]\n",
            "loss: 0.228246  [25600/60000]\n",
            "loss: 0.212922  [38400/60000]\n",
            "loss: 0.264160  [51200/60000]\n",
            "Test Error: \n",
            " Accuracy: 93.0%, Avg loss: 0.227547 \n",
            "\n",
            "Epoch 3\n",
            "\n",
            "********************************\n",
            "loss: 0.158998  [    0/60000]\n",
            "loss: 0.141120  [12800/60000]\n",
            "loss: 0.193357  [25600/60000]\n",
            "loss: 0.154640  [38400/60000]\n",
            "loss: 0.200437  [51200/60000]\n",
            "Test Error: \n",
            " Accuracy: 95.0%, Avg loss: 0.166259 \n",
            "\n",
            "Epoch 4\n",
            "\n",
            "********************************\n",
            "loss: 0.111131  [    0/60000]\n",
            "loss: 0.099478  [12800/60000]\n",
            "loss: 0.158898  [25600/60000]\n",
            "loss: 0.128429  [38400/60000]\n",
            "loss: 0.168851  [51200/60000]\n",
            "Test Error: \n",
            " Accuracy: 96.0%, Avg loss: 0.133481 \n",
            "\n",
            "Epoch 5\n",
            "\n",
            "********************************\n",
            "loss: 0.085640  [    0/60000]\n",
            "loss: 0.072257  [12800/60000]\n",
            "loss: 0.131239  [25600/60000]\n",
            "loss: 0.108998  [38400/60000]\n",
            "loss: 0.150511  [51200/60000]\n",
            "Test Error: \n",
            " Accuracy: 96.5%, Avg loss: 0.114390 \n",
            "\n",
            "Epoch 6\n",
            "\n",
            "********************************\n",
            "loss: 0.070765  [    0/60000]\n",
            "loss: 0.057208  [12800/60000]\n",
            "loss: 0.105046  [25600/60000]\n",
            "loss: 0.094520  [38400/60000]\n",
            "loss: 0.139015  [51200/60000]\n",
            "Test Error: \n",
            " Accuracy: 96.8%, Avg loss: 0.102069 \n",
            "\n",
            "Epoch 7\n",
            "\n",
            "********************************\n",
            "loss: 0.059283  [    0/60000]\n",
            "loss: 0.047755  [12800/60000]\n",
            "loss: 0.085051  [25600/60000]\n",
            "loss: 0.082640  [38400/60000]\n",
            "loss: 0.130317  [51200/60000]\n",
            "Test Error: \n",
            " Accuracy: 97.1%, Avg loss: 0.093718 \n",
            "\n",
            "Epoch 8\n",
            "\n",
            "********************************\n",
            "loss: 0.050345  [    0/60000]\n",
            "loss: 0.041019  [12800/60000]\n",
            "loss: 0.068627  [25600/60000]\n",
            "loss: 0.073897  [38400/60000]\n",
            "loss: 0.120662  [51200/60000]\n",
            "Test Error: \n",
            " Accuracy: 97.2%, Avg loss: 0.088148 \n",
            "\n",
            "Epoch 9\n",
            "\n",
            "********************************\n",
            "loss: 0.043311  [    0/60000]\n",
            "loss: 0.035286  [12800/60000]\n",
            "loss: 0.055374  [25600/60000]\n",
            "loss: 0.066225  [38400/60000]\n",
            "loss: 0.112977  [51200/60000]\n",
            "Test Error: \n",
            " Accuracy: 97.3%, Avg loss: 0.084212 \n",
            "\n",
            "Epoch 10\n",
            "\n",
            "********************************\n",
            "loss: 0.037663  [    0/60000]\n",
            "loss: 0.031217  [12800/60000]\n",
            "loss: 0.045061  [25600/60000]\n",
            "loss: 0.057834  [38400/60000]\n",
            "loss: 0.105706  [51200/60000]\n",
            "Test Error: \n",
            " Accuracy: 97.4%, Avg loss: 0.081311 \n",
            "\n",
            "Predicted: 0, Actual: 7\n"
          ]
        },
        {
          "output_type": "display_data",
          "data": {
            "text/plain": [
              "<Figure size 640x480 with 1 Axes>"
            ],
            "image/png": "[encoded data removed]"
          },
          "metadata": {}
        }
      ]
    }
  ]
}